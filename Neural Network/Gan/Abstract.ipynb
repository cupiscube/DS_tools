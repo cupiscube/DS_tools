{
 "cells": [
  {
   "cell_type": "markdown",
   "id": "f7303cdb-73e9-4451-b2f8-2f059abb89b9",
   "metadata": {},
   "source": [
    "# Применение"
   ]
  },
  {
   "cell_type": "markdown",
   "id": "6094e6c1-a4e0-4455-b5d5-52ca340e8c1e",
   "metadata": {},
   "source": [
    "- Генерация изображений с нуля или по скетчу\n",
    "- Перенос стиля с одного изображения на другое\n",
    "- Генерация изображений по текстовому описанию\n",
    "- Генерация речи по тексту\n",
    "- Дорисовка изображения\n",
    "- Увеличение размерности"
   ]
  },
  {
   "cell_type": "markdown",
   "id": "3aee0872-ad3b-4bca-9ac8-d4aa1ee8c095",
   "metadata": {},
   "source": [
    "# Модели"
   ]
  },
  {
   "cell_type": "markdown",
   "id": "89851d93-3fe7-4d94-8490-8872778d3f2a",
   "metadata": {},
   "source": [
    "- PGGAN - Лица людей с нуля\n",
    "- Pix2pix - Геерация изображения из скетча\n",
    "- SPADE - Геерация изображения из скетча\n",
    "- CycleGAN - перенос стиля\n",
    "- StyleGan - перенос стиля из описывающего вектора\n",
    "- DALL-E - генерация изображений по тексту\n",
    "- SuperResolution - Увеличение без потери качества"
   ]
  },
  {
   "cell_type": "markdown",
   "id": "e7466414-4d9d-4a81-ad81-ac0b0399f597",
   "metadata": {},
   "source": [
    "## Pix2pix примеры применения\n",
    "    -- labels to street scene\n",
    "    -- Labels to Facade\n",
    "    -- BW to color\n",
    "    -- Day to Night\n",
    "    -- Edges to Photo\n",
    "    -- Aerial to map\n",
    "    e.t.c."
   ]
  },
  {
   "cell_type": "markdown",
   "id": "601d274a-eae1-41c5-a366-6ae0d16e3bfa",
   "metadata": {},
   "source": [
    "# Pipeline Examples"
   ]
  },
  {
   "cell_type": "markdown",
   "id": "cf4f9445-c239-425d-8321-eac002e00433",
   "metadata": {},
   "source": [
    "## RuDALL-E от сбера"
   ]
  },
  {
   "cell_type": "markdown",
   "id": "0e8d2094-ecb4-41e2-8034-7b8c79a7eb14",
   "metadata": {},
   "source": [
    "1) ru-DALL-E - генерирует варианты изображений\n",
    "2) ru CLIP - выбирает наиболее релевантные\n",
    "3) SuperResolution - Увеличение без потери качества"
   ]
  }
 ],
 "metadata": {
  "kernelspec": {
   "display_name": "Python 3",
   "language": "python",
   "name": "python3"
  },
  "language_info": {
   "codemirror_mode": {
    "name": "ipython",
    "version": 3
   },
   "file_extension": ".py",
   "mimetype": "text/x-python",
   "name": "python",
   "nbconvert_exporter": "python",
   "pygments_lexer": "ipython3",
   "version": "3.6.8"
  }
 },
 "nbformat": 4,
 "nbformat_minor": 5
}
