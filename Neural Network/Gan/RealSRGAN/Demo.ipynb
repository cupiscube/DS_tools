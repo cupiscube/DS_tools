{
 "cells": [
  {
   "cell_type": "code",
   "execution_count": 9,
   "id": "443d64cb-4da6-4187-80d4-6f0742db1114",
   "metadata": {},
   "outputs": [],
   "source": [
    "import torch\n",
    "from PIL import Image\n",
    "import numpy as np\n",
    "from RealESRGAN.model import RealESRGAN"
   ]
  },
  {
   "cell_type": "code",
   "execution_count": 10,
   "id": "43a1719c-2272-45b2-a460-1873c39d1e7d",
   "metadata": {},
   "outputs": [],
   "source": [
    "device = torch.device('cuda' if torch.cuda.is_available() else 'cpu')"
   ]
  },
  {
   "cell_type": "code",
   "execution_count": 11,
   "id": "2f9c25f7-2e82-4250-bec4-c3751daa1b48",
   "metadata": {},
   "outputs": [
    {
     "data": {
      "text/plain": [
       "device(type='cpu')"
      ]
     },
     "execution_count": 11,
     "metadata": {},
     "output_type": "execute_result"
    }
   ],
   "source": [
    "device"
   ]
  },
  {
   "cell_type": "code",
   "execution_count": 12,
   "id": "2d1419bc-6f64-4edf-9c8b-294399041288",
   "metadata": {},
   "outputs": [],
   "source": [
    "model = RealESRGAN(device, scale=4)\n",
    "model.load_weights('./weights/RealESRGAN_x4.pth')"
   ]
  },
  {
   "cell_type": "code",
   "execution_count": 13,
   "id": "cf8aedbb-b648-4b0d-a41a-e587c6d5d1ff",
   "metadata": {},
   "outputs": [
    {
     "data": {
      "text/plain": [
       "<RealESRGAN.model.RealESRGAN at 0x1f4ac3d01d0>"
      ]
     },
     "execution_count": 13,
     "metadata": {},
     "output_type": "execute_result"
    }
   ],
   "source": [
    "model"
   ]
  },
  {
   "cell_type": "code",
   "execution_count": 14,
   "id": "f3a2e569-d155-485a-8803-c14cdc8133bc",
   "metadata": {},
   "outputs": [],
   "source": [
    "image_path = './inputs/lr_image.png'\n",
    "image = Image.open(image_path).convert('RGB')"
   ]
  },
  {
   "cell_type": "code",
   "execution_count": 15,
   "id": "8e9f48a8-fa3f-475d-91f1-5eebd304108a",
   "metadata": {},
   "outputs": [
    {
     "name": "stdout",
     "output_type": "stream",
     "text": [
      "Wall time: 3min 10s\n"
     ]
    }
   ],
   "source": [
    "%%time\n",
    "\n",
    "sr_image = model.predict(image)"
   ]
  },
  {
   "cell_type": "code",
   "execution_count": 16,
   "id": "93ca216a-01ab-44fa-bb49-19760673fc07",
   "metadata": {},
   "outputs": [],
   "source": [
    "sr_image.save('./results/lr_image.png')"
   ]
  }
 ],
 "metadata": {
  "kernelspec": {
   "display_name": "Python 3",
   "language": "python",
   "name": "python3"
  },
  "language_info": {
   "codemirror_mode": {
    "name": "ipython",
    "version": 3
   },
   "file_extension": ".py",
   "mimetype": "text/x-python",
   "name": "python",
   "nbconvert_exporter": "python",
   "pygments_lexer": "ipython3",
   "version": "3.6.8"
  }
 },
 "nbformat": 4,
 "nbformat_minor": 5
}
