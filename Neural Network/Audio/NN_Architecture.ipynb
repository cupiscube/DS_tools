{
 "cells": [
  {
   "cell_type": "markdown",
   "id": "84013a01-ae7e-4e30-99b6-02e764539eb0",
   "metadata": {},
   "source": [
    "# Import"
   ]
  },
  {
   "cell_type": "code",
   "execution_count": 1,
   "id": "8c0cd39e-1d4f-4d11-86de-67e8dc6dad13",
   "metadata": {},
   "outputs": [],
   "source": [
    "from tensorflow.keras import utils\n",
    "import os\n",
    "import librosa\n",
    "import pandas as pd\n",
    "import matplotlib.pyplot as plt\n",
    "import sklearn\n",
    "import numpy as np\n",
    "%matplotlib inline\n",
    "\n",
    "from tensorflow.keras.optimizers import Adam\n",
    "from tensorflow.keras.models import Sequential, Model\n",
    "from tensorflow.keras.layers import concatenate, Input, Dense, Dropout, BatchNormalization, Flatten, Conv1D, Conv2D\n",
    "\n",
    "from sklearn.model_selection import train_test_split\n",
    "from sklearn.preprocessing import LabelEncoder, StandardScaler # transform categorical value\n",
    "\n",
    "# Дабы код не останавливался если будут ошибки\n",
    "import warnings\n",
    "warnings.filterwarnings('ignore')"
   ]
  },
  {
   "cell_type": "raw",
   "id": "7129eed0-33dd-4183-98c1-f9155c2f1d35",
   "metadata": {},
   "source": [
    "# ХЗ почему но в рабочей директории квакозябры\n",
    "import zipfile\n",
    "import io\n",
    "# z = zipfile.ZipFile('E:\\\\Documents\\\\Data Science Pro\\\\11 - NN\\\\audio_ds\\\\genres.zip', 'r')\n",
    "z = zipfile.ZipFile('E:/Documents/Data Science Pro/11 - NN/audio_ds/genres.zip', 'r')\n",
    "z.extractall()\n",
    "\n",
    "genres = 'blues classical country disco hiphop jazz metal pop reggae rock'.split()\n",
    "!ls genres\n",
    "!ls genres/blues"
   ]
  },
  {
   "cell_type": "code",
   "execution_count": 2,
   "id": "98dd3b36-fc81-4937-90d6-b94f01388537",
   "metadata": {},
   "outputs": [
    {
     "data": {
      "text/plain": [
       "['blues',\n",
       " 'classical',\n",
       " 'country',\n",
       " 'disco',\n",
       " 'hiphop',\n",
       " 'jazz',\n",
       " 'metal',\n",
       " 'pop',\n",
       " 'reggae',\n",
       " 'rock']"
      ]
     },
     "execution_count": 2,
     "metadata": {},
     "output_type": "execute_result"
    }
   ],
   "source": [
    "ds_path = 'E:/Documents/Data Science Pro/11 - NN/audio_ds/'\n",
    "genres = 'blues classical country disco hiphop jazz metal pop reggae rock'.split()\n",
    "genres"
   ]
  },
  {
   "cell_type": "code",
   "execution_count": 3,
   "id": "9086d283-6d99-40fb-8fab-720d3e3c180e",
   "metadata": {},
   "outputs": [],
   "source": [
    "def get_features(y, sr):\n",
    "    chroma_stft = np.mean(librosa.feature.chroma_stft(y=y, sr=sr)) # хромограмма \n",
    "    # https://stackoverflow.com/questions/59027941/sound-feature-attributeerror-rmse\n",
    "    # rmse = np.mean(librosa.feature.rmse(y=y, sr=sr)) # RMSE\n",
    "    rmse = np.mean(librosa.feature.rms(y=y)) # RMSE\n",
    "    spec_cent = np.mean(librosa.feature.spectral_centroid(y=y, sr=sr)) # спектральный центроид\n",
    "    spec_bw = np.mean(librosa.feature.spectral_bandwidth(y=y, sr=sr)) # \n",
    "    rolloff = np.mean(librosa.feature.spectral_rolloff(y=y, sr=sr)) # пересечение с нулем\n",
    "    # zcr = np.mean(librosa.feature.zero_crossing_rate(y=y, sr=sr)) # пересечение со значением\n",
    "    zcr = np.mean(librosa.feature.zero_crossing_rate(y=y)) # пересечение со значением\n",
    "    mfcc = librosa.feature.mfcc(y=y, sr=sr) # частота цветность\n",
    "    \n",
    "    out = [chroma_stft, rmse, spec_cent, spec_bw, rolloff, zcr]\n",
    "    for e in mfcc:\n",
    "        out.append(np.mean(e))\n",
    "    \n",
    "    return out"
   ]
  },
  {
   "cell_type": "markdown",
   "id": "f47ecf96-4088-4e6d-b3eb-bd855c2f0346",
   "metadata": {},
   "source": [
    "# Data preparing"
   ]
  },
  {
   "cell_type": "code",
   "execution_count": 4,
   "id": "14bf96d5-d101-4685-baf0-9e5f714a16ac",
   "metadata": {},
   "outputs": [
    {
     "name": "stdout",
     "output_type": "stream",
     "text": [
      "Жанр blues готов\n",
      "Жанр classical готов\n",
      "Жанр country готов\n",
      "Жанр disco готов\n",
      "Жанр hiphop готов\n",
      "Жанр jazz готов\n",
      "Жанр metal готов\n",
      "Жанр pop готов\n",
      "Жанр reggae готов\n",
      "Жанр rock готов\n"
     ]
    }
   ],
   "source": [
    "X_train = []\n",
    "Y_train = []\n",
    "\n",
    "for i in range(len(genres)):\n",
    "    g = genres[i]\n",
    "    for filename in os.listdir(f'{ds_path}/genres/{g}'):\n",
    "        songname = f'{ds_path}/genres/{g}/{filename}'\n",
    "        y, sr = librosa.load(songname, mono=True, duration=30)\n",
    "        out=get_features(y, sr)\n",
    "        \n",
    "        X_train.append(out)\n",
    "        Y_train.append(utils.to_categorical(i, len(genres)))\n",
    "    print('Жанр', g, 'готов')\n",
    "\n",
    "X_train = np.array(X_train)\n",
    "Y_train = np.array(Y_train)\n",
    "    "
   ]
  },
  {
   "cell_type": "code",
   "execution_count": 5,
   "id": "d95d66c2-7b42-49ba-9131-a6307ccb1828",
   "metadata": {},
   "outputs": [],
   "source": [
    "X_train_backup = X_train.copy()\n",
    "Y_train_backup = Y_train.copy()"
   ]
  },
  {
   "cell_type": "code",
   "execution_count": 6,
   "id": "b315335f-b502-40cc-ae81-c569b87a031e",
   "metadata": {},
   "outputs": [],
   "source": [
    "y_train_class = np.argmax(Y_train, axis=1)"
   ]
  },
  {
   "cell_type": "code",
   "execution_count": 7,
   "id": "dfaa9348-4d65-4512-b7b6-9fdd992a8d2f",
   "metadata": {},
   "outputs": [
    {
     "name": "stdout",
     "output_type": "stream",
     "text": [
      "(1000, 26)\n",
      "(1000, 10)\n",
      "(1000,)\n"
     ]
    }
   ],
   "source": [
    "print(X_train.shape)\n",
    "print(Y_train.shape)\n",
    "print(y_train_class.shape)"
   ]
  },
  {
   "cell_type": "code",
   "execution_count": 8,
   "id": "f617183e-3e9e-4b28-ab5d-cc5e4780238d",
   "metadata": {},
   "outputs": [],
   "source": [
    "scaler = StandardScaler()\n",
    "X_train = scaler.fit_transform(np.array(X_train, dtype=float))"
   ]
  },
  {
   "cell_type": "code",
   "execution_count": 9,
   "id": "1e4cac24-82fe-4f6f-a5b3-76f58d2c53d8",
   "metadata": {},
   "outputs": [],
   "source": [
    "X_train, X_test, y_train, y_test = train_test_split(X_train, \n",
    "                                                    y_train_class, \n",
    "                                                    test_size=0.1)"
   ]
  },
  {
   "cell_type": "code",
   "execution_count": 10,
   "id": "63812aac-b4fd-428b-a367-83fc40687bd2",
   "metadata": {},
   "outputs": [
    {
     "name": "stdout",
     "output_type": "stream",
     "text": [
      "(900, 26)\n",
      "(100, 26)\n",
      "(900,)\n",
      "(100,)\n"
     ]
    }
   ],
   "source": [
    "print(X_train.shape)\n",
    "print(X_test.shape)\n",
    "print(y_train.shape)\n",
    "print(y_test.shape)"
   ]
  },
  {
   "cell_type": "markdown",
   "id": "460f07b0-6401-45e9-909a-0b7c4b402968",
   "metadata": {},
   "source": [
    "# Neural Network"
   ]
  },
  {
   "cell_type": "code",
   "execution_count": 12,
   "id": "2132e3ed-6a91-461e-8dc3-bef7f82ed950",
   "metadata": {},
   "outputs": [
    {
     "name": "stdout",
     "output_type": "stream",
     "text": [
      "Epoch 1/100\n",
      "45/45 [==============================] - 1s 6ms/step - loss: 2.0693 - accuracy: 0.2489 - val_loss: 1.7907 - val_accuracy: 0.3700\n",
      "Epoch 2/100\n",
      "45/45 [==============================] - 0s 3ms/step - loss: 1.7644 - accuracy: 0.3822 - val_loss: 1.6194 - val_accuracy: 0.4200\n",
      "Epoch 3/100\n",
      "45/45 [==============================] - 0s 3ms/step - loss: 1.6204 - accuracy: 0.4367 - val_loss: 1.5316 - val_accuracy: 0.4600\n",
      "Epoch 4/100\n",
      "45/45 [==============================] - 0s 3ms/step - loss: 1.5260 - accuracy: 0.4744 - val_loss: 1.4525 - val_accuracy: 0.4900\n",
      "Epoch 5/100\n",
      "45/45 [==============================] - 0s 3ms/step - loss: 1.4591 - accuracy: 0.4956 - val_loss: 1.4076 - val_accuracy: 0.5100\n",
      "Epoch 6/100\n",
      "45/45 [==============================] - 0s 3ms/step - loss: 1.4001 - accuracy: 0.5156 - val_loss: 1.3660 - val_accuracy: 0.5100\n",
      "Epoch 7/100\n",
      "45/45 [==============================] - 0s 3ms/step - loss: 1.3524 - accuracy: 0.5378 - val_loss: 1.3233 - val_accuracy: 0.5600\n",
      "Epoch 8/100\n",
      "45/45 [==============================] - 0s 3ms/step - loss: 1.3082 - accuracy: 0.5667 - val_loss: 1.2932 - val_accuracy: 0.5400\n",
      "Epoch 9/100\n",
      "45/45 [==============================] - 0s 3ms/step - loss: 1.2712 - accuracy: 0.5778 - val_loss: 1.2557 - val_accuracy: 0.5700\n",
      "Epoch 10/100\n",
      "45/45 [==============================] - 0s 3ms/step - loss: 1.2367 - accuracy: 0.6033 - val_loss: 1.2409 - val_accuracy: 0.6000\n",
      "Epoch 11/100\n",
      "45/45 [==============================] - 0s 3ms/step - loss: 1.2069 - accuracy: 0.6167 - val_loss: 1.1938 - val_accuracy: 0.6000\n",
      "Epoch 12/100\n",
      "45/45 [==============================] - 0s 3ms/step - loss: 1.1769 - accuracy: 0.6222 - val_loss: 1.1917 - val_accuracy: 0.6200\n",
      "Epoch 13/100\n",
      "45/45 [==============================] - 0s 3ms/step - loss: 1.1526 - accuracy: 0.6311 - val_loss: 1.1573 - val_accuracy: 0.6000\n",
      "Epoch 14/100\n",
      "45/45 [==============================] - 0s 3ms/step - loss: 1.1269 - accuracy: 0.6344 - val_loss: 1.1397 - val_accuracy: 0.6200\n",
      "Epoch 15/100\n",
      "45/45 [==============================] - 0s 3ms/step - loss: 1.1032 - accuracy: 0.6511 - val_loss: 1.1231 - val_accuracy: 0.6600\n",
      "Epoch 16/100\n",
      "45/45 [==============================] - 0s 3ms/step - loss: 1.0804 - accuracy: 0.6544 - val_loss: 1.1040 - val_accuracy: 0.6500\n",
      "Epoch 17/100\n",
      "45/45 [==============================] - 0s 4ms/step - loss: 1.0619 - accuracy: 0.6667 - val_loss: 1.0828 - val_accuracy: 0.6500\n",
      "Epoch 18/100\n",
      "45/45 [==============================] - 0s 3ms/step - loss: 1.0412 - accuracy: 0.6678 - val_loss: 1.0832 - val_accuracy: 0.6500\n",
      "Epoch 19/100\n",
      "45/45 [==============================] - 0s 3ms/step - loss: 1.0230 - accuracy: 0.6744 - val_loss: 1.0653 - val_accuracy: 0.6600\n",
      "Epoch 20/100\n",
      "45/45 [==============================] - 0s 3ms/step - loss: 1.0042 - accuracy: 0.6711 - val_loss: 1.0415 - val_accuracy: 0.6700\n",
      "Epoch 21/100\n",
      "45/45 [==============================] - 0s 3ms/step - loss: 0.9889 - accuracy: 0.6778 - val_loss: 1.0337 - val_accuracy: 0.6800\n",
      "Epoch 22/100\n",
      "45/45 [==============================] - 0s 3ms/step - loss: 0.9717 - accuracy: 0.6833 - val_loss: 1.0384 - val_accuracy: 0.6700\n",
      "Epoch 23/100\n",
      "45/45 [==============================] - 0s 3ms/step - loss: 0.9583 - accuracy: 0.6933 - val_loss: 1.0172 - val_accuracy: 0.6800\n",
      "Epoch 24/100\n",
      "45/45 [==============================] - 0s 3ms/step - loss: 0.9442 - accuracy: 0.6889 - val_loss: 1.0062 - val_accuracy: 0.6700\n",
      "Epoch 25/100\n",
      "45/45 [==============================] - 0s 3ms/step - loss: 0.9317 - accuracy: 0.6956 - val_loss: 1.0006 - val_accuracy: 0.6800\n",
      "Epoch 26/100\n",
      "45/45 [==============================] - 0s 3ms/step - loss: 0.9175 - accuracy: 0.7078 - val_loss: 1.0004 - val_accuracy: 0.6700\n",
      "Epoch 27/100\n",
      "45/45 [==============================] - 0s 3ms/step - loss: 0.9050 - accuracy: 0.7078 - val_loss: 0.9876 - val_accuracy: 0.6800\n",
      "Epoch 28/100\n",
      "45/45 [==============================] - 0s 3ms/step - loss: 0.8894 - accuracy: 0.7100 - val_loss: 0.9759 - val_accuracy: 0.6800\n",
      "Epoch 29/100\n",
      "45/45 [==============================] - 0s 3ms/step - loss: 0.8797 - accuracy: 0.7156 - val_loss: 0.9791 - val_accuracy: 0.6800\n",
      "Epoch 30/100\n",
      "45/45 [==============================] - 0s 3ms/step - loss: 0.8675 - accuracy: 0.7222 - val_loss: 0.9683 - val_accuracy: 0.6600\n",
      "Epoch 31/100\n",
      "45/45 [==============================] - 0s 3ms/step - loss: 0.8562 - accuracy: 0.7256 - val_loss: 0.9745 - val_accuracy: 0.6700\n",
      "Epoch 32/100\n",
      "45/45 [==============================] - 0s 3ms/step - loss: 0.8464 - accuracy: 0.7356 - val_loss: 0.9645 - val_accuracy: 0.6700\n",
      "Epoch 33/100\n",
      "45/45 [==============================] - 0s 3ms/step - loss: 0.8364 - accuracy: 0.7256 - val_loss: 0.9620 - val_accuracy: 0.6800\n",
      "Epoch 34/100\n",
      "45/45 [==============================] - 0s 3ms/step - loss: 0.8300 - accuracy: 0.7367 - val_loss: 0.9581 - val_accuracy: 0.6700\n",
      "Epoch 35/100\n",
      "45/45 [==============================] - 0s 3ms/step - loss: 0.8192 - accuracy: 0.7411 - val_loss: 0.9507 - val_accuracy: 0.6600\n",
      "Epoch 36/100\n",
      "45/45 [==============================] - 0s 3ms/step - loss: 0.8064 - accuracy: 0.7433 - val_loss: 0.9500 - val_accuracy: 0.6800\n",
      "Epoch 37/100\n",
      "45/45 [==============================] - 0s 3ms/step - loss: 0.7994 - accuracy: 0.7489 - val_loss: 0.9442 - val_accuracy: 0.6800\n",
      "Epoch 38/100\n",
      "45/45 [==============================] - 0s 3ms/step - loss: 0.7884 - accuracy: 0.7467 - val_loss: 0.9391 - val_accuracy: 0.6700\n",
      "Epoch 39/100\n",
      "45/45 [==============================] - 0s 3ms/step - loss: 0.7819 - accuracy: 0.7511 - val_loss: 0.9373 - val_accuracy: 0.6700\n",
      "Epoch 40/100\n",
      "45/45 [==============================] - 0s 3ms/step - loss: 0.7714 - accuracy: 0.7567 - val_loss: 0.9358 - val_accuracy: 0.6700\n",
      "Epoch 41/100\n",
      "45/45 [==============================] - 0s 3ms/step - loss: 0.7654 - accuracy: 0.7600 - val_loss: 0.9335 - val_accuracy: 0.6700\n",
      "Epoch 42/100\n",
      "45/45 [==============================] - 0s 3ms/step - loss: 0.7544 - accuracy: 0.7589 - val_loss: 0.9338 - val_accuracy: 0.6600\n",
      "Epoch 43/100\n",
      "45/45 [==============================] - 0s 3ms/step - loss: 0.7501 - accuracy: 0.7644 - val_loss: 0.9317 - val_accuracy: 0.6700\n",
      "Epoch 44/100\n",
      "45/45 [==============================] - 0s 3ms/step - loss: 0.7403 - accuracy: 0.7656 - val_loss: 0.9235 - val_accuracy: 0.6700\n",
      "Epoch 45/100\n",
      "45/45 [==============================] - 0s 3ms/step - loss: 0.7355 - accuracy: 0.7611 - val_loss: 0.9297 - val_accuracy: 0.6800\n",
      "Epoch 46/100\n",
      "45/45 [==============================] - 0s 4ms/step - loss: 0.7280 - accuracy: 0.7689 - val_loss: 0.9285 - val_accuracy: 0.6600\n",
      "Epoch 47/100\n",
      "45/45 [==============================] - 0s 3ms/step - loss: 0.7194 - accuracy: 0.7689 - val_loss: 0.9285 - val_accuracy: 0.6800\n",
      "Epoch 48/100\n",
      "45/45 [==============================] - 0s 3ms/step - loss: 0.7132 - accuracy: 0.7700 - val_loss: 0.9290 - val_accuracy: 0.6900\n",
      "Epoch 49/100\n",
      "45/45 [==============================] - 0s 3ms/step - loss: 0.7038 - accuracy: 0.7800 - val_loss: 0.9271 - val_accuracy: 0.6800\n",
      "Epoch 50/100\n",
      "45/45 [==============================] - 0s 3ms/step - loss: 0.7016 - accuracy: 0.7767 - val_loss: 0.9243 - val_accuracy: 0.6700\n",
      "Epoch 51/100\n",
      "45/45 [==============================] - 0s 3ms/step - loss: 0.6911 - accuracy: 0.7744 - val_loss: 0.9298 - val_accuracy: 0.6800\n",
      "Epoch 52/100\n",
      "45/45 [==============================] - 0s 2ms/step - loss: 0.6854 - accuracy: 0.7778 - val_loss: 0.9175 - val_accuracy: 0.6900\n",
      "Epoch 53/100\n",
      "45/45 [==============================] - 0s 3ms/step - loss: 0.6816 - accuracy: 0.7756 - val_loss: 0.9176 - val_accuracy: 0.6800\n",
      "Epoch 54/100\n",
      "45/45 [==============================] - 0s 3ms/step - loss: 0.6720 - accuracy: 0.7900 - val_loss: 0.9238 - val_accuracy: 0.6700\n",
      "Epoch 55/100\n",
      "45/45 [==============================] - 0s 3ms/step - loss: 0.6661 - accuracy: 0.7833 - val_loss: 0.9134 - val_accuracy: 0.7000\n",
      "Epoch 56/100\n",
      "45/45 [==============================] - 0s 3ms/step - loss: 0.6619 - accuracy: 0.7867 - val_loss: 0.9252 - val_accuracy: 0.6900\n",
      "Epoch 57/100\n",
      "45/45 [==============================] - 0s 3ms/step - loss: 0.6532 - accuracy: 0.7933 - val_loss: 0.9204 - val_accuracy: 0.6800\n",
      "Epoch 58/100\n",
      "45/45 [==============================] - 0s 3ms/step - loss: 0.6497 - accuracy: 0.7933 - val_loss: 0.9365 - val_accuracy: 0.7000\n",
      "Epoch 59/100\n",
      "45/45 [==============================] - 0s 2ms/step - loss: 0.6460 - accuracy: 0.7911 - val_loss: 0.9216 - val_accuracy: 0.6900\n",
      "Epoch 60/100\n",
      "45/45 [==============================] - 0s 2ms/step - loss: 0.6358 - accuracy: 0.8011 - val_loss: 0.9133 - val_accuracy: 0.6900\n",
      "Epoch 61/100\n",
      "45/45 [==============================] - 0s 3ms/step - loss: 0.6308 - accuracy: 0.7967 - val_loss: 0.9231 - val_accuracy: 0.6900\n",
      "Epoch 62/100\n",
      "45/45 [==============================] - 0s 3ms/step - loss: 0.6248 - accuracy: 0.8067 - val_loss: 0.9126 - val_accuracy: 0.6800\n",
      "Epoch 63/100\n",
      "45/45 [==============================] - 0s 3ms/step - loss: 0.6223 - accuracy: 0.8044 - val_loss: 0.9154 - val_accuracy: 0.7000\n",
      "Epoch 64/100\n",
      "45/45 [==============================] - 0s 3ms/step - loss: 0.6182 - accuracy: 0.8011 - val_loss: 0.9155 - val_accuracy: 0.6700\n",
      "Epoch 65/100\n",
      "45/45 [==============================] - 0s 3ms/step - loss: 0.6098 - accuracy: 0.8089 - val_loss: 0.9255 - val_accuracy: 0.6900\n",
      "Epoch 66/100\n",
      "45/45 [==============================] - 0s 3ms/step - loss: 0.6070 - accuracy: 0.8067 - val_loss: 0.9178 - val_accuracy: 0.6800\n",
      "Epoch 67/100\n",
      "45/45 [==============================] - 0s 2ms/step - loss: 0.6017 - accuracy: 0.8144 - val_loss: 0.9155 - val_accuracy: 0.7000\n",
      "Epoch 68/100\n",
      "45/45 [==============================] - 0s 3ms/step - loss: 0.5968 - accuracy: 0.8056 - val_loss: 0.9204 - val_accuracy: 0.6800\n",
      "Epoch 69/100\n",
      "45/45 [==============================] - 0s 3ms/step - loss: 0.5888 - accuracy: 0.8189 - val_loss: 0.9133 - val_accuracy: 0.6900\n",
      "Epoch 70/100\n",
      "45/45 [==============================] - 0s 2ms/step - loss: 0.5858 - accuracy: 0.8122 - val_loss: 0.9142 - val_accuracy: 0.7000\n",
      "Epoch 71/100\n",
      "45/45 [==============================] - 0s 3ms/step - loss: 0.5809 - accuracy: 0.8144 - val_loss: 0.9222 - val_accuracy: 0.7200\n",
      "Epoch 72/100\n",
      "45/45 [==============================] - 0s 3ms/step - loss: 0.5729 - accuracy: 0.8200 - val_loss: 0.9130 - val_accuracy: 0.7100\n",
      "Epoch 73/100\n",
      "45/45 [==============================] - 0s 3ms/step - loss: 0.5682 - accuracy: 0.8211 - val_loss: 0.9224 - val_accuracy: 0.7000\n",
      "Epoch 74/100\n",
      "45/45 [==============================] - 0s 3ms/step - loss: 0.5631 - accuracy: 0.8167 - val_loss: 0.9312 - val_accuracy: 0.7000\n",
      "Epoch 75/100\n",
      "45/45 [==============================] - 0s 3ms/step - loss: 0.5591 - accuracy: 0.8233 - val_loss: 0.9164 - val_accuracy: 0.7200\n",
      "Epoch 76/100\n",
      "45/45 [==============================] - 0s 3ms/step - loss: 0.5534 - accuracy: 0.8300 - val_loss: 0.9297 - val_accuracy: 0.7000\n",
      "Epoch 77/100\n",
      "45/45 [==============================] - 0s 3ms/step - loss: 0.5495 - accuracy: 0.8256 - val_loss: 0.9151 - val_accuracy: 0.7000\n",
      "Epoch 78/100\n",
      "45/45 [==============================] - 0s 3ms/step - loss: 0.5476 - accuracy: 0.8244 - val_loss: 0.9180 - val_accuracy: 0.7100\n",
      "Epoch 79/100\n",
      "45/45 [==============================] - 0s 3ms/step - loss: 0.5393 - accuracy: 0.8356 - val_loss: 0.9289 - val_accuracy: 0.6900\n",
      "Epoch 80/100\n",
      "45/45 [==============================] - 0s 3ms/step - loss: 0.5337 - accuracy: 0.8378 - val_loss: 0.9140 - val_accuracy: 0.6900\n",
      "Epoch 81/100\n",
      "45/45 [==============================] - 0s 3ms/step - loss: 0.5298 - accuracy: 0.8333 - val_loss: 0.9190 - val_accuracy: 0.7100\n",
      "Epoch 82/100\n",
      "45/45 [==============================] - 0s 3ms/step - loss: 0.5272 - accuracy: 0.8356 - val_loss: 0.9210 - val_accuracy: 0.7000\n",
      "Epoch 83/100\n",
      "45/45 [==============================] - 0s 3ms/step - loss: 0.5237 - accuracy: 0.8311 - val_loss: 0.9242 - val_accuracy: 0.7000\n",
      "Epoch 84/100\n",
      "45/45 [==============================] - 0s 3ms/step - loss: 0.5138 - accuracy: 0.8400 - val_loss: 0.9382 - val_accuracy: 0.7100\n",
      "Epoch 85/100\n",
      "45/45 [==============================] - 0s 3ms/step - loss: 0.5103 - accuracy: 0.8444 - val_loss: 0.9291 - val_accuracy: 0.7200\n",
      "Epoch 86/100\n",
      "45/45 [==============================] - 0s 3ms/step - loss: 0.5075 - accuracy: 0.8389 - val_loss: 0.9319 - val_accuracy: 0.7100\n",
      "Epoch 87/100\n",
      "45/45 [==============================] - 0s 3ms/step - loss: 0.5047 - accuracy: 0.8467 - val_loss: 0.9226 - val_accuracy: 0.7100\n",
      "Epoch 88/100\n",
      "45/45 [==============================] - 0s 3ms/step - loss: 0.5023 - accuracy: 0.8433 - val_loss: 0.9452 - val_accuracy: 0.7100\n",
      "Epoch 89/100\n",
      "45/45 [==============================] - 0s 3ms/step - loss: 0.4951 - accuracy: 0.8433 - val_loss: 0.9289 - val_accuracy: 0.7100\n",
      "Epoch 90/100\n",
      "45/45 [==============================] - 0s 3ms/step - loss: 0.4899 - accuracy: 0.8511 - val_loss: 0.9247 - val_accuracy: 0.7200\n",
      "Epoch 91/100\n",
      "45/45 [==============================] - 0s 2ms/step - loss: 0.4833 - accuracy: 0.8589 - val_loss: 0.9334 - val_accuracy: 0.7200\n",
      "Epoch 92/100\n",
      "45/45 [==============================] - 0s 3ms/step - loss: 0.4815 - accuracy: 0.8544 - val_loss: 0.9407 - val_accuracy: 0.7200\n",
      "Epoch 93/100\n",
      "45/45 [==============================] - 0s 3ms/step - loss: 0.4784 - accuracy: 0.8556 - val_loss: 0.9258 - val_accuracy: 0.7100\n",
      "Epoch 94/100\n",
      "45/45 [==============================] - 0s 3ms/step - loss: 0.4742 - accuracy: 0.8578 - val_loss: 0.9302 - val_accuracy: 0.7300\n",
      "Epoch 95/100\n",
      "45/45 [==============================] - 0s 3ms/step - loss: 0.4720 - accuracy: 0.8522 - val_loss: 0.9464 - val_accuracy: 0.7200\n",
      "Epoch 96/100\n",
      "45/45 [==============================] - 0s 3ms/step - loss: 0.4621 - accuracy: 0.8578 - val_loss: 0.9304 - val_accuracy: 0.7300\n",
      "Epoch 97/100\n",
      "45/45 [==============================] - 0s 3ms/step - loss: 0.4591 - accuracy: 0.8633 - val_loss: 0.9337 - val_accuracy: 0.7000\n",
      "Epoch 98/100\n",
      "45/45 [==============================] - 0s 3ms/step - loss: 0.4582 - accuracy: 0.8633 - val_loss: 0.9288 - val_accuracy: 0.7300\n",
      "Epoch 99/100\n",
      "45/45 [==============================] - 0s 3ms/step - loss: 0.4539 - accuracy: 0.8611 - val_loss: 0.9517 - val_accuracy: 0.7200\n",
      "Epoch 100/100\n",
      "45/45 [==============================] - 0s 3ms/step - loss: 0.4471 - accuracy: 0.8711 - val_loss: 0.9370 - val_accuracy: 0.7200\n"
     ]
    },
    {
     "data": {
      "image/png": "[encoded data removed]",
      "text/plain": [
       "<Figure size 432x288 with 1 Axes>"
      ]
     },
     "metadata": {
      "needs_background": "light"
     },
     "output_type": "display_data"
    }
   ],
   "source": [
    "indexes = range(0, 26)\n",
    "\n",
    "# Create a model\n",
    "model = Sequential()\n",
    "\n",
    "model.add(Dense(256, activation='elu', input_shape=(len(indexes), )))\n",
    "model.add(Dense(128, activation='elu'))\n",
    "model.add(Dense(64, activation='elu'))\n",
    "model.add(Dense(32, activation='elu'))\n",
    "model.add(Dense(10, activation='softmax'))\n",
    "\n",
    "model.compile(loss='sparse_categorical_crossentropy', \n",
    "              optimizer=Adam(lr=1e-4), \n",
    "              metrics=['accuracy'])\n",
    "\n",
    "\n",
    "history=model.fit(X_train,\n",
    "                  y_train,\n",
    "                  batch_size=20,\n",
    "                  epochs=100,\n",
    "                  validation_data=(X_test, y_test))\n",
    "\n",
    "plt.plot(history.history['accuracy'])\n",
    "plt.plot(history.history['val_accuracy'])\n",
    "plt.show()"
   ]
  }
 ],
 "metadata": {
  "kernelspec": {
   "display_name": "Python 3",
   "language": "python",
   "name": "python3"
  },
  "language_info": {
   "codemirror_mode": {
    "name": "ipython",
    "version": 3
   },
   "file_extension": ".py",
   "mimetype": "text/x-python",
   "name": "python",
   "nbconvert_exporter": "python",
   "pygments_lexer": "ipython3",
   "version": "3.6.8"
  }
 },
 "nbformat": 4,
 "nbformat_minor": 5
}
