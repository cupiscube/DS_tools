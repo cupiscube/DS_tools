{
 "cells": [
  {
   "cell_type": "markdown",
   "id": "dc246a0a-806a-4231-9e14-9a6cd857aa0a",
   "metadata": {},
   "source": [
    "### Neural Network"
   ]
  },
  {
   "cell_type": "markdown",
   "id": "13ad5a88-566f-417a-bec7-af0f680aafa8",
   "metadata": {},
   "source": [
    "Type of resolved problems:\n",
    "\n",
    "* Descriptive - Описательный - пропорции или подсчеты\n",
    "* Exploratory - Исследовательский - какие закономерности могут присутствовать в наборе данных?\n",
    "* Inferentory - Логический - поиск обощающих знаний\n",
    "* Predictive -Предсказательный - количественные взаимодействия между некоторыми особенностями или характеристиками и исходом или событием представляющим интерес\n",
    "* Causal - Причинно-Следственный - влияние изменения в одной величине на другую\n",
    "* Deterministic - Детерминированный - как одно событие влияет на вероятность возникновения другого"
   ]
  },
  {
   "cell_type": "markdown",
   "id": "b8b481d1-6c71-4628-8388-edb3e6a29f5f",
   "metadata": {},
   "source": [
    "Better to use \"relu\" activation function"
   ]
  },
  {
   "cell_type": "markdown",
   "id": "746f5b6b-4cb0-485d-ba95-2f0bd8982c72",
   "metadata": {},
   "source": [
    "# Layers type"
   ]
  },
  {
   "cell_type": "markdown",
   "id": "d2128042-6c09-4f03-ae8a-b7cfed79dd38",
   "metadata": {},
   "source": [
    "* Input - входной слой\n",
    "* Dense - обычный, полносвязный слой\n",
    "* Flatten - для \"выпрямления\" данных\n",
    "* Conv1D - одномерный сверточный слой\n",
    "* Conv2D - двумерный сверточный слой\n",
    "* BatchNormalization - слой нормализации\n",
    "* Dropout - \n",
    "* concatenate - "
   ]
  },
  {
   "cell_type": "code",
   "execution_count": null,
   "id": "72b8f504-d592-4e5a-8cea-acf6080595ee",
   "metadata": {},
   "outputs": [],
   "source": []
  }
 ],
 "metadata": {
  "kernelspec": {
   "display_name": "Python 3",
   "language": "python",
   "name": "python3"
  },
  "language_info": {
   "codemirror_mode": {
    "name": "ipython",
    "version": 3
   },
   "file_extension": ".py",
   "mimetype": "text/x-python",
   "name": "python",
   "nbconvert_exporter": "python",
   "pygments_lexer": "ipython3",
   "version": "3.6.8"
  }
 },
 "nbformat": 4,
 "nbformat_minor": 5
}
